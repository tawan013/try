{
 "cells": [
  {
   "cell_type": "code",
   "execution_count": 64,
   "metadata": {},
   "outputs": [],
   "source": [
    "### 1 ###\n",
    "def first_num(number):\n",
    "    return int(str(number)[0])"
   ]
  },
  {
   "cell_type": "code",
   "execution_count": null,
   "metadata": {},
   "outputs": [],
   "source": [
    "first_num(ใส่เลข)"
   ]
  },
  {
   "cell_type": "code",
   "execution_count": 65,
   "metadata": {},
   "outputs": [],
   "source": [
    "### 2 ###\n",
    "def benford(set_num):\n",
    "    dict_num=dict()\n",
    "    for i in set_num:\n",
    "        if first_num(i) in dict_num:dict_num[first_num(i)]+=1\n",
    "        else:dict_num[first_num(i)]=1\n",
    "    for i in dict_num:dict_num[i]=str(dict_num[i]*100/len(set_num))+'%'\n",
    "    return sorted(dict_num.items())    "
   ]
  },
  {
   "cell_type": "code",
   "execution_count": null,
   "metadata": {},
   "outputs": [],
   "source": [
    "benford(ใส่ชุดตัวเลข)"
   ]
  },
  {
   "cell_type": "code",
   "execution_count": 66,
   "metadata": {},
   "outputs": [],
   "source": [
    "### 3 ###\n",
    "def benford_text(set_num2):\n",
    "    wow=benford(set_num2)\n",
    "    for i in wow:\n",
    "        print('เลข '+str(i[0])+\": \"+ (round(float(i[1][:len(i[1])-1]))*'x'))"
   ]
  },
  {
   "cell_type": "code",
   "execution_count": null,
   "metadata": {},
   "outputs": [],
   "source": [
    "benford_text(ใส่ชุดตัวเลข)"
   ]
  },
  {
   "cell_type": "code",
   "execution_count": null,
   "metadata": {},
   "outputs": [],
   "source": [
    "### 4 ### (โอกาสได้ก้อย = 0.33 , 1/2 = หัว , 3 = ก้อย)\n",
    "import random\n",
    "a=0;b=1;c=1;toss=0\n",
    "while a<10:\n",
    "    a=int(input('ใส่ตังมา'))\n",
    "    if int(a)<10:print('จ่ายน้อยไป จ่ายใหม่')\n",
    "while toss!=3:\n",
    "    toss = random.randint(1,3)\n",
    "    if toss==3:\n",
    "        b*=2;print('ทอยครั้งที่ %s ทอยได้ก้อย ขณะนี้มีเงินสะสม %s บาท จบเกม' % (str(c),str(b)))        \n",
    "    else:\n",
    "        b*=2;print('ทอยครั้งที่ %s ทอยได้หัว ขณะนี้มีเงินสะสม %s บาท ทอยต่อ' % (str(c),str(b)))\n",
    "    c+=1\n",
    "print('เงินสุทธิ : %s บาท' %(str(-int(a)+b)))"
   ]
  },
  {
   "cell_type": "code",
   "execution_count": 61,
   "metadata": {},
   "outputs": [
    {
     "name": "stdout",
     "output_type": "stream",
     "text": [
      "เล่น 10000 ครั้ง บริษัทได้กำไร 9428 ครั้ง คิดเป็น 94.28 %\n",
      "เล่น 10000 ครั้ง net profit ของบริษัท = -3932 บาท\n"
     ]
    }
   ],
   "source": [
    "### 5 ### (โอกาสได้ก้อย = 0.5 , 1 = หัว , 2 = ก้อย)\n",
    "import random\n",
    "money1=20;play=10000;netmoney=0;profit_times=0\n",
    "for i in range(play):\n",
    "    money_gain=0;toss=0;b=1\n",
    "    while toss!=2:\n",
    "        toss=random.randint(1,2);b*=2\n",
    "    netmoney=netmoney+money1-b\n",
    "    if money1>b:profit_times+=1\n",
    "print('เล่น %s ครั้ง บริษัทได้กำไร %s ครั้ง คิดเป็น %s %s' %(play,profit_times,profit_times*100/play,'%'))\n",
    "print('เล่น %s ครั้ง net profit ของบริษัท = %s บาท' %(play,netmoney))"
   ]
  }
 ],
 "metadata": {
  "kernelspec": {
   "display_name": "Python 3",
   "language": "python",
   "name": "python3"
  },
  "language_info": {
   "codemirror_mode": {
    "name": "ipython",
    "version": 3
   },
   "file_extension": ".py",
   "mimetype": "text/x-python",
   "name": "python",
   "nbconvert_exporter": "python",
   "pygments_lexer": "ipython3",
   "version": "3.7.4"
  }
 },
 "nbformat": 4,
 "nbformat_minor": 4
}
